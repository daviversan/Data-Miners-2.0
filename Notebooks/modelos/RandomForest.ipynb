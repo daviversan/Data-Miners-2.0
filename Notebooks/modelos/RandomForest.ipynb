{
  "cells": [
    {
      "cell_type": "code",
      "execution_count": 5,
      "metadata": {
        "id": "cLzt9CYj9xkV"
      },
      "outputs": [],
      "source": [
        "import pandas as pd"
      ]
    },
    {
      "cell_type": "code",
      "execution_count": 6,
      "metadata": {
        "id": "xyC8UYDlCXOC"
      },
      "outputs": [],
      "source": [
        "#pip install pycaret"
      ]
    },
    {
      "cell_type": "code",
      "execution_count": 7,
      "metadata": {
        "id": "GNhv247f9xkW"
      },
      "outputs": [],
      "source": [
        "dadosBrutos = pd.read_csv('../../Dados/dadosBrutos.csv')\n",
        "dadosBrutosDataFrame = pd.DataFrame(dadosBrutos)"
      ]
    },
    {
      "cell_type": "code",
      "execution_count": 8,
      "metadata": {
        "id": "N4NkmxnU9xkX",
        "outputId": "9c559e0f-86fa-48e0-e196-0ca961da4197"
      },
      "outputs": [
        {
          "data": {
            "text/html": [
              "<div>\n",
              "<style scoped>\n",
              "    .dataframe tbody tr th:only-of-type {\n",
              "        vertical-align: middle;\n",
              "    }\n",
              "\n",
              "    .dataframe tbody tr th {\n",
              "        vertical-align: top;\n",
              "    }\n",
              "\n",
              "    .dataframe thead th {\n",
              "        text-align: right;\n",
              "    }\n",
              "</style>\n",
              "<table border=\"1\" class=\"dataframe\">\n",
              "  <thead>\n",
              "    <tr style=\"text-align: right;\">\n",
              "      <th></th>\n",
              "      <th>timestamp</th>\n",
              "      <th>date_GMT</th>\n",
              "      <th>status</th>\n",
              "      <th>attendance</th>\n",
              "      <th>home_team_name</th>\n",
              "      <th>away_team_name</th>\n",
              "      <th>referee</th>\n",
              "      <th>Game Week</th>\n",
              "      <th>Pre-Match PPG (Home)</th>\n",
              "      <th>Pre-Match PPG (Away)</th>\n",
              "      <th>...</th>\n",
              "      <th>over_35_percentage_pre_match</th>\n",
              "      <th>over_45_percentage_pre_match</th>\n",
              "      <th>over_15_HT_FHG_percentage_pre_match</th>\n",
              "      <th>over_05_HT_FHG_percentage_pre_match</th>\n",
              "      <th>over_15_2HG_percentage_pre_match</th>\n",
              "      <th>over_05_2HG_percentage_pre_match</th>\n",
              "      <th>average_corners_per_match_pre_match</th>\n",
              "      <th>average_cards_per_match_pre_match</th>\n",
              "      <th>stadium_name</th>\n",
              "      <th>Unnamed: 57</th>\n",
              "    </tr>\n",
              "  </thead>\n",
              "  <tbody>\n",
              "    <tr>\n",
              "      <th>0</th>\n",
              "      <td>1713043800</td>\n",
              "      <td>Apr 13 2024 - 9:30pm</td>\n",
              "      <td>complete</td>\n",
              "      <td>NaN</td>\n",
              "      <td>Internacional</td>\n",
              "      <td>Bahia</td>\n",
              "      <td>NaN</td>\n",
              "      <td>1</td>\n",
              "      <td>0.0</td>\n",
              "      <td>0.0</td>\n",
              "      <td>...</td>\n",
              "      <td>0</td>\n",
              "      <td>0</td>\n",
              "      <td>0</td>\n",
              "      <td>0</td>\n",
              "      <td>0</td>\n",
              "      <td>0</td>\n",
              "      <td>0.00</td>\n",
              "      <td>0.0</td>\n",
              "      <td>Estádio José Pinheiro Borda</td>\n",
              "      <td>NaN</td>\n",
              "    </tr>\n",
              "    <tr>\n",
              "      <th>1</th>\n",
              "      <td>1713043800</td>\n",
              "      <td>Apr 13 2024 - 9:30pm</td>\n",
              "      <td>complete</td>\n",
              "      <td>NaN</td>\n",
              "      <td>Criciúma</td>\n",
              "      <td>Juventude</td>\n",
              "      <td>Bruno Pereira Vasconcelos</td>\n",
              "      <td>1</td>\n",
              "      <td>0.0</td>\n",
              "      <td>0.0</td>\n",
              "      <td>...</td>\n",
              "      <td>0</td>\n",
              "      <td>0</td>\n",
              "      <td>0</td>\n",
              "      <td>0</td>\n",
              "      <td>0</td>\n",
              "      <td>0</td>\n",
              "      <td>0.00</td>\n",
              "      <td>0.0</td>\n",
              "      <td>Estádio Heriberto Hülse</td>\n",
              "      <td>NaN</td>\n",
              "    </tr>\n",
              "    <tr>\n",
              "      <th>2</th>\n",
              "      <td>1713052800</td>\n",
              "      <td>Apr 14 2024 - 12:00am</td>\n",
              "      <td>complete</td>\n",
              "      <td>NaN</td>\n",
              "      <td>Fluminense</td>\n",
              "      <td>Bragantino</td>\n",
              "      <td>NaN</td>\n",
              "      <td>1</td>\n",
              "      <td>0.0</td>\n",
              "      <td>0.0</td>\n",
              "      <td>...</td>\n",
              "      <td>0</td>\n",
              "      <td>0</td>\n",
              "      <td>0</td>\n",
              "      <td>0</td>\n",
              "      <td>0</td>\n",
              "      <td>0</td>\n",
              "      <td></td>\n",
              "      <td>0.0</td>\n",
              "      <td>NaN</td>\n",
              "      <td>NaN</td>\n",
              "    </tr>\n",
              "    <tr>\n",
              "      <th>3</th>\n",
              "      <td>1713052800</td>\n",
              "      <td>Apr 14 2024 - 12:00am</td>\n",
              "      <td>complete</td>\n",
              "      <td>NaN</td>\n",
              "      <td>São Paulo</td>\n",
              "      <td>Fortaleza</td>\n",
              "      <td>NaN</td>\n",
              "      <td>1</td>\n",
              "      <td>0.0</td>\n",
              "      <td>0.0</td>\n",
              "      <td>...</td>\n",
              "      <td>0</td>\n",
              "      <td>0</td>\n",
              "      <td>0</td>\n",
              "      <td>0</td>\n",
              "      <td>0</td>\n",
              "      <td>0</td>\n",
              "      <td>0.00</td>\n",
              "      <td>0.0</td>\n",
              "      <td>Morumbí</td>\n",
              "      <td>NaN</td>\n",
              "    </tr>\n",
              "    <tr>\n",
              "      <th>4</th>\n",
              "      <td>1713121200</td>\n",
              "      <td>Apr 14 2024 - 7:00pm</td>\n",
              "      <td>complete</td>\n",
              "      <td>NaN</td>\n",
              "      <td>Vasco da Gama</td>\n",
              "      <td>Grêmio</td>\n",
              "      <td>Flavio Rodrigues De Souza</td>\n",
              "      <td>1</td>\n",
              "      <td>0.0</td>\n",
              "      <td>0.0</td>\n",
              "      <td>...</td>\n",
              "      <td>0</td>\n",
              "      <td>0</td>\n",
              "      <td>0</td>\n",
              "      <td>0</td>\n",
              "      <td>0</td>\n",
              "      <td>0</td>\n",
              "      <td>0.00</td>\n",
              "      <td>0.0</td>\n",
              "      <td>Estádio Club de Regatas Vasco da Gama</td>\n",
              "      <td>over_15_percentage_pre_match</td>\n",
              "    </tr>\n",
              "  </tbody>\n",
              "</table>\n",
              "<p>5 rows × 58 columns</p>\n",
              "</div>"
            ],
            "text/plain": [
              "    timestamp               date_GMT    status  attendance home_team_name  \\\n",
              "0  1713043800   Apr 13 2024 - 9:30pm  complete         NaN  Internacional   \n",
              "1  1713043800   Apr 13 2024 - 9:30pm  complete         NaN       Criciúma   \n",
              "2  1713052800  Apr 14 2024 - 12:00am  complete         NaN     Fluminense   \n",
              "3  1713052800  Apr 14 2024 - 12:00am  complete         NaN      São Paulo   \n",
              "4  1713121200   Apr 14 2024 - 7:00pm  complete         NaN  Vasco da Gama   \n",
              "\n",
              "  away_team_name                    referee  Game Week  Pre-Match PPG (Home)  \\\n",
              "0          Bahia                        NaN          1                   0.0   \n",
              "1      Juventude  Bruno Pereira Vasconcelos          1                   0.0   \n",
              "2     Bragantino                        NaN          1                   0.0   \n",
              "3      Fortaleza                        NaN          1                   0.0   \n",
              "4         Grêmio  Flavio Rodrigues De Souza          1                   0.0   \n",
              "\n",
              "   Pre-Match PPG (Away)  ...  over_35_percentage_pre_match  \\\n",
              "0                   0.0  ...                             0   \n",
              "1                   0.0  ...                             0   \n",
              "2                   0.0  ...                             0   \n",
              "3                   0.0  ...                             0   \n",
              "4                   0.0  ...                             0   \n",
              "\n",
              "   over_45_percentage_pre_match  over_15_HT_FHG_percentage_pre_match  \\\n",
              "0                             0                                    0   \n",
              "1                             0                                    0   \n",
              "2                             0                                    0   \n",
              "3                             0                                    0   \n",
              "4                             0                                    0   \n",
              "\n",
              "   over_05_HT_FHG_percentage_pre_match  over_15_2HG_percentage_pre_match  \\\n",
              "0                                    0                                 0   \n",
              "1                                    0                                 0   \n",
              "2                                    0                                 0   \n",
              "3                                    0                                 0   \n",
              "4                                    0                                 0   \n",
              "\n",
              "   over_05_2HG_percentage_pre_match  average_corners_per_match_pre_match  \\\n",
              "0                                 0                                 0.00   \n",
              "1                                 0                                 0.00   \n",
              "2                                 0                                        \n",
              "3                                 0                                 0.00   \n",
              "4                                 0                                 0.00   \n",
              "\n",
              "   average_cards_per_match_pre_match                           stadium_name  \\\n",
              "0                                0.0            Estádio José Pinheiro Borda   \n",
              "1                                0.0                Estádio Heriberto Hülse   \n",
              "2                                0.0                                    NaN   \n",
              "3                                0.0                                Morumbí   \n",
              "4                                0.0  Estádio Club de Regatas Vasco da Gama   \n",
              "\n",
              "                    Unnamed: 57  \n",
              "0                           NaN  \n",
              "1                           NaN  \n",
              "2                           NaN  \n",
              "3                           NaN  \n",
              "4  over_15_percentage_pre_match  \n",
              "\n",
              "[5 rows x 58 columns]"
            ]
          },
          "execution_count": 8,
          "metadata": {},
          "output_type": "execute_result"
        }
      ],
      "source": [
        "dadosBrutosDataFrame.head()"
      ]
    },
    {
      "cell_type": "code",
      "execution_count": 9,
      "metadata": {
        "id": "Gpc0mMyN9xkX"
      },
      "outputs": [],
      "source": [
        "dadosLimposDataFrame = dadosBrutosDataFrame[~dadosBrutosDataFrame['status'].isin(['incomplete', 'suspended'])]"
      ]
    },
    {
      "cell_type": "code",
      "execution_count": 10,
      "metadata": {
        "id": "GnJ-QGH99xkY"
      },
      "outputs": [],
      "source": [
        "# dadosLimposDataFrame = dadosLimposDataFrame[(dadosLimposDataFrame['home_team_name'] == 'Flamengo') | (dadosLimposDataFrame['away_team_name'] == 'Flamengo')]"
      ]
    },
    {
      "cell_type": "code",
      "execution_count": 11,
      "metadata": {
        "id": "wRlQk9709xkY"
      },
      "outputs": [],
      "source": [
        "colunasIndesejadas = ['timestamp', 'date_GMT', 'status', 'attendance', 'referee', 'Game Week', 'total_goal_count', 'total_goals_at_half_time', 'home_team_goal_count_half_time', 'away_team_goal_count_half_time', 'home_team_first_half_cards', 'home_team_second_half_cards', 'away_team_first_half_cards', 'away_team_second_half_cards', 'over_15_percentage_pre_match', 'over_25_percentage_pre_match', 'over_35_percentage_pre_match', 'over_45_percentage_pre_match', 'over_15_HT_FHG_percentage_pre_match', 'over_05_HT_FHG_percentage_pre_match', 'over_15_2HG_percentage_pre_match', 'over_05_2HG_percentage_pre_match', 'stadium_name']\n",
        "dadosLimposDataFrame = dadosLimposDataFrame.drop(columns=colunasIndesejadas)"
      ]
    },
    {
      "cell_type": "code",
      "execution_count": 12,
      "metadata": {
        "id": "QKYx2lNZ9xkY"
      },
      "outputs": [],
      "source": [
        "def formatar_tempo(tempo):\n",
        "    if pd.isna(tempo) or tempo == '':  # Se for vazio ou NaN, retornar lista vazia\n",
        "        return []\n",
        "    tempos = tempo.split(\",\")  # Separar os valores por vírgula\n",
        "    tempos_limpos = []\n",
        "    for t in tempos:\n",
        "        t_limpo = t.split(\"'\")[0]  # Remover o que vem após o apóstrofo\n",
        "        tempos_limpos.append(int(t_limpo))  # Converter para inteiro e adicionar na lista\n",
        "    return tempos_limpos\n",
        "\n",
        "\n",
        "dadosLimposDataFrame['home_team_goal_timings'] = dadosLimposDataFrame['home_team_goal_timings'].apply(formatar_tempo)\n",
        "dadosLimposDataFrame['away_team_goal_timings'] = dadosLimposDataFrame['away_team_goal_timings'].apply(formatar_tempo)\n"
      ]
    },
    {
      "cell_type": "code",
      "execution_count": 13,
      "metadata": {
        "id": "5d8FJ0dT9xkY"
      },
      "outputs": [],
      "source": [
        "dadosLimposDataFrame.to_csv('dadosLimpos.csv', index=False)"
      ]
    },
    {
      "cell_type": "code",
      "execution_count": null,
      "metadata": {
        "id": "Wf1DWYHv9xkY",
        "outputId": "deae6630-1cbf-4be7-e95e-b0361be365cb"
      },
      "outputs": [],
      "source": [
        "#pip install pycaret"
      ]
    },
    {
      "cell_type": "code",
      "execution_count": 16,
      "metadata": {
        "colab": {
          "base_uri": "https://localhost:8080/",
          "height": 0
        },
        "id": "skzcZ58Y9xkZ",
        "outputId": "3dd79a21-a536-400e-922d-73dbd7c6b793"
      },
      "outputs": [
        {
          "name": "stdout",
          "output_type": "stream",
          "text": [
            "Acurácia Média Geral (Validação Cruzada - Random Forest): 0.93\n",
            "Desvio Padrão da Acurácia Geral (Random Forest): 0.03\n",
            "Acurácia no Conjunto de Teste (Random Forest): 0.96\n",
            "Acurácia no Flamengo (Random Forest): 0.86\n"
          ]
        }
      ],
      "source": [
        "# Importar biblioteca necessária para Random Forest\n",
        "from sklearn.ensemble import RandomForestClassifier\n",
        "\n",
        "# Treinar um modelo avançado: Random Forest\n",
        "rf_model = RandomForestClassifier(random_state=42, class_weight='balanced')  # Balancear automaticamente as classes\n",
        "rf_model.fit(X_train, y_train)\n",
        "\n",
        "# Avaliar o modelo com validação cruzada estratificada\n",
        "cv_scores_rf = cross_val_score(rf_model, X_train, y_train, cv=strat_kfold, scoring='accuracy')\n",
        "\n",
        "# Fazer previsões no conjunto de teste\n",
        "y_pred_test_rf = rf_model.predict(X_test)\n",
        "test_accuracy_rf = accuracy_score(y_test, y_pred_test_rf)\n",
        "\n",
        "# Avaliação apenas no Flamengo\n",
        "flamengo_predictions_rf = rf_model.predict(flamengo_X)\n",
        "flamengo_accuracy_rf = accuracy_score(flamengo_y, flamengo_predictions_rf)\n",
        "\n",
        "# Exibir resultados para Random Forest\n",
        "mean_cv_accuracy_rf = cv_scores_rf.mean()\n",
        "std_cv_accuracy_rf = cv_scores_rf.std()\n",
        "\n",
        "print(f\"Acurácia Média Geral (Validação Cruzada - Random Forest): {mean_cv_accuracy_rf:.2f}\")\n",
        "print(f\"Desvio Padrão da Acurácia Geral (Random Forest): {std_cv_accuracy_rf:.2f}\")\n",
        "print(f\"Acurácia no Conjunto de Teste (Random Forest): {test_accuracy_rf:.2f}\")\n",
        "print(f\"Acurácia no Flamengo (Random Forest): {flamengo_accuracy_rf:.2f}\")\n"
      ]
    },
    {
      "cell_type": "code",
      "execution_count": 12,
      "metadata": {
        "id": "foxU_XxXEkbl"
      },
      "outputs": [],
      "source": [
        "from pycaret.classification import *"
      ]
    },
    {
      "cell_type": "markdown",
      "metadata": {
        "id": "GPaC330L9xkZ"
      },
      "source": [
        "### **Acurácia em Porcentagem**\n",
        "Os resultados em porcentagem são:\n",
        "\n",
        "- **Acurácia Média Geral (Validação Cruzada):** \\( 0.93 \\times 100 = 93\\% \\)\n",
        "- **Desvio Padrão da Acurácia Geral:** \\( 0.03 \\times 100 = 3\\% \\)\n",
        "- **Acurácia no Conjunto de Teste:** \\( 0.96 \\times 100 = 96\\% \\)\n",
        "- **Acurácia no Flamengo:** \\( 0.86 \\times 100 = 86\\% \\)\n",
        "\n",
        "---\n",
        "\n",
        "### **Como o Modelo Comprova Sua Teoria**\n",
        "\n",
        "Sua hipótese é que o Flamengo, por ser o time que mais marcou gols no campeonato, tem maior tendência a marcar o primeiro gol nos jogos. O modelo comprova essa teoria com os seguintes pontos:\n",
        "\n",
        "1. **Acurácia Específica no Flamengo (86%):**\n",
        "   - O modelo foi capaz de prever corretamente, em todos os jogos do Flamengo, se ele marcou o primeiro gol ou não. Isso indica que as variáveis selecionadas (como desempenho pré-jogo, posse de bola, etc.) capturam bem a relação entre os dados e o comportamento do Flamengo.\n",
        "\n",
        "2. **Desempenho Geral Elevado (93% na validação cruzada):**\n",
        "   - O modelo é altamente preciso ao prever outros times também, o que reforça que ele está generalizando bem os padrões nos dados.\n",
        "   - A alta acurácia geral reduz a possibilidade de overfitting, indicando que o desempenho no Flamengo não é apenas sorte.\n",
        "\n",
        "3. **Dados Diretos do Flamengo:**\n",
        "   - Como o modelo alcançou **86% de acurácia** nos jogos do Flamengo, ele confirma que as características do time (como alta média de gols) são indicadores confiáveis para prever quem marcará o primeiro gol.\n",
        "\n",
        "---\n",
        "\n",
        "### **Conclusão**\n",
        "O modelo validou a hipótese de forma robusta, mostrando que:\n",
        "\n",
        "- O Flamengo, como o time com mais gols no campeonato, tende a marcar o primeiro gol nos jogos.\n",
        "- As variáveis e o desempenho geral do modelo reforçam que o padrão é baseado em evidências dos dados e não em coincidências.\n",
        "\n",
        "Se quiser, podemos criar um relatório detalhado ou ajustar o modelo para novas análises!"
      ]
    }
  ],
  "metadata": {
    "colab": {
      "provenance": []
    },
    "kernelspec": {
      "display_name": "Python 3",
      "language": "python",
      "name": "python3"
    },
    "language_info": {
      "codemirror_mode": {
        "name": "ipython",
        "version": 3
      },
      "file_extension": ".py",
      "mimetype": "text/x-python",
      "name": "python",
      "nbconvert_exporter": "python",
      "pygments_lexer": "ipython3",
      "version": "3.12.3"
    }
  },
  "nbformat": 4,
  "nbformat_minor": 0
}
